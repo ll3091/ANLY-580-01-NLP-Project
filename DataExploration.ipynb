{
  "nbformat": 4,
  "nbformat_minor": 0,
  "metadata": {
    "colab": {
      "name": "DataExploration.ipynb",
      "version": "0.3.2",
      "provenance": [],
      "collapsed_sections": [],
      "toc_visible": true,
      "include_colab_link": true
    },
    "kernelspec": {
      "name": "python3",
      "display_name": "Python 3"
    },
    "accelerator": "GPU"
  },
  "cells": [
    {
      "cell_type": "markdown",
      "metadata": {
        "id": "view-in-github",
        "colab_type": "text"
      },
      "source": [
        "<a href=\"https://colab.research.google.com/github/ll3091/ANLY-580-01-NLP-Project/blob/master/DataExploration.ipynb\" target=\"_parent\"><img src=\"https://colab.research.google.com/assets/colab-badge.svg\" alt=\"Open In Colab\"/></a>"
      ]
    },
    {
      "metadata": {
        "id": "Acf8v8pZkb_v",
        "colab_type": "text"
      },
      "cell_type": "markdown",
      "source": [
        "# NLP Project: Data Exploration & Cleaning"
      ]
    },
    {
      "metadata": {
        "id": "5weKoR27nPAh",
        "colab_type": "code",
        "outputId": "35ffca9c-ec91-4fce-be57-da3297cc88f0",
        "colab": {
          "base_uri": "https://localhost:8080/",
          "height": 122
        }
      },
      "cell_type": "code",
      "source": [
        "# connect to Google Drive\n",
        "from google.colab import drive\n",
        "\n",
        "drive.mount('/content/gdrive/')"
      ],
      "execution_count": 1,
      "outputs": [
        {
          "output_type": "stream",
          "text": [
            "Go to this URL in a browser: https://accounts.google.com/o/oauth2/auth?client_id=947318989803-6bn6qk8qdgf4n4g3pfee6491hc0brc4i.apps.googleusercontent.com&redirect_uri=urn%3Aietf%3Awg%3Aoauth%3A2.0%3Aoob&scope=email%20https%3A%2F%2Fwww.googleapis.com%2Fauth%2Fdocs.test%20https%3A%2F%2Fwww.googleapis.com%2Fauth%2Fdrive%20https%3A%2F%2Fwww.googleapis.com%2Fauth%2Fdrive.photos.readonly%20https%3A%2F%2Fwww.googleapis.com%2Fauth%2Fpeopleapi.readonly&response_type=code\n",
            "\n",
            "Enter your authorization code:\n",
            "··········\n",
            "Mounted at /content/gdrive/\n"
          ],
          "name": "stdout"
        }
      ]
    },
    {
      "metadata": {
        "id": "XTS09rLOkbVh",
        "colab_type": "code",
        "colab": {}
      },
      "cell_type": "code",
      "source": [
        "# import packages\n",
        "import json\n",
        "import os\n",
        "import numpy as np\n",
        "import pandas as pd\n",
        "import matplotlib.pyplot as plt"
      ],
      "execution_count": 0,
      "outputs": []
    },
    {
      "metadata": {
        "id": "0_nJlS6uk4oU",
        "colab_type": "text"
      },
      "cell_type": "markdown",
      "source": [
        "## Trump Tweets"
      ]
    },
    {
      "metadata": {
        "id": "JRB-0xYQkysp",
        "colab_type": "code",
        "outputId": "335b839d-d931-4b44-c5e1-6f78951e9bd7",
        "colab": {
          "base_uri": "https://localhost:8080/",
          "height": 224
        }
      },
      "cell_type": "code",
      "source": [
        "# source https://github.com/nprapps/trump-tweet-analysis\n",
        "! wget https://raw.githubusercontent.com/nprapps/trump-tweet-analysis/master/data/since-20170120-processed.json"
      ],
      "execution_count": 0,
      "outputs": [
        {
          "output_type": "stream",
          "text": [
            "--2018-11-20 02:21:17--  https://raw.githubusercontent.com/nprapps/trump-tweet-analysis/master/data/since-20170120-processed.json\n",
            "Resolving raw.githubusercontent.com (raw.githubusercontent.com)... 151.101.0.133, 151.101.64.133, 151.101.128.133, ...\n",
            "Connecting to raw.githubusercontent.com (raw.githubusercontent.com)|151.101.0.133|:443... connected.\n",
            "HTTP request sent, awaiting response... 200 OK\n",
            "Length: 1991459 (1.9M) [text/plain]\n",
            "Saving to: ‘since-20170120-processed.json’\n",
            "\n",
            "since-20170120-proc 100%[===================>]   1.90M  --.-KB/s    in 0.04s   \n",
            "\n",
            "2018-11-20 02:21:18 (46.6 MB/s) - ‘since-20170120-processed.json’ saved [1991459/1991459]\n",
            "\n"
          ],
          "name": "stdout"
        }
      ]
    },
    {
      "metadata": {
        "id": "dbKxXWh0lHuI",
        "colab_type": "code",
        "colab": {}
      },
      "cell_type": "code",
      "source": [
        "# read in json files\n",
        "file = 'since-20170120-processed.json'\n",
        "\n",
        "with open(file, 'r', encoding = 'utf-8') as inputjson:\n",
        "  trump_tweets_json = json.loads(inputjson.read())"
      ],
      "execution_count": 0,
      "outputs": []
    },
    {
      "metadata": {
        "id": "jhx96tcolmBw",
        "colab_type": "code",
        "outputId": "00c0e306-92b1-4346-a1ed-a169d66a1aa0",
        "colab": {
          "base_uri": "https://localhost:8080/",
          "height": 34
        }
      },
      "cell_type": "code",
      "source": [
        "# number of tweets\n",
        "len(trump_tweets_json)"
      ],
      "execution_count": 0,
      "outputs": [
        {
          "output_type": "execute_result",
          "data": {
            "text/plain": [
              "4575"
            ]
          },
          "metadata": {
            "tags": []
          },
          "execution_count": 5
        }
      ]
    },
    {
      "metadata": {
        "id": "f3dzoL0El7Lu",
        "colab_type": "code",
        "outputId": "a734dbd6-8636-408a-ef3f-d728936c26b7",
        "colab": {
          "base_uri": "https://localhost:8080/",
          "height": 34
        }
      },
      "cell_type": "code",
      "source": [
        "# extract tweet\n",
        "trump_tweets = ['Trump tweets: '+t['text'] for t in trump_tweets_json]\n",
        "# longest tweet\n",
        "max([len(t) for t in trump_tweets])"
      ],
      "execution_count": 0,
      "outputs": [
        {
          "output_type": "execute_result",
          "data": {
            "text/plain": [
              "334"
            ]
          },
          "metadata": {
            "tags": []
          },
          "execution_count": 6
        }
      ]
    },
    {
      "metadata": {
        "id": "7d7WsAt7mHKe",
        "colab_type": "code",
        "outputId": "73089d6b-f119-4a48-bdc3-7a151c02a336",
        "colab": {
          "base_uri": "https://localhost:8080/",
          "height": 207
        }
      },
      "cell_type": "code",
      "source": [
        "# first 10 extracted tweets\n",
        "trump_tweets[:10]"
      ],
      "execution_count": 0,
      "outputs": [
        {
          "output_type": "execute_result",
          "data": {
            "text/plain": [
              "['Trump tweets: Still can’t believe that Bloomberg violated a firm OFF THE RECORD statement. Will they put out an apology?',\n",
              " 'Trump tweets: Great day in North Carolina where Republicans will do very well!',\n",
              " 'Trump tweets: The ABC/Washington Post Poll was by far the least accurate one 2 weeks out from the 2016 Election. I call it a suppression poll - but by Election Day they brought us, out of shame, to about even. They will never learn!',\n",
              " 'Trump tweets: .@Rasmussen_Poll just came out at 48% approval rate despite the constant and intense Fake News. Higher than Election Day and higher than President Obama. Rasmussen was one of the most accurate Election Day polls!',\n",
              " 'Trump tweets: https://t.co/c79zLeREOA',\n",
              " 'Trump tweets: “President Donald J. Trump is Strengthening Retirement Security for American Workers” https://t.co/cKeATuKXDe',\n",
              " 'Trump tweets: Wow, I made OFF THE RECORD COMMENTS to Bloomberg concerning Canada, and this powerful understanding was BLATANTLY VIOLATED. Oh well, just more dishonest reporting. I am used to it. At least Canada knows where I stand!',\n",
              " 'Trump tweets: I will be doing a major rally for Senator Ted Cruz in October. I’m picking the biggest stadium in Texas we can find. As you know, Ted has my complete and total Endorsement. His opponent is a disaster for Texas - weak on Second Amendment, Crime, Borders, Military, and Vets!',\n",
              " 'Trump tweets: Thank you Indiana, I love you!\\nhttps://t.co/To6s9ViMj1',\n",
              " 'Trump tweets: Throwback Thursday! #MAGA https://t.co/8slzITa1l6']"
            ]
          },
          "metadata": {
            "tags": []
          },
          "execution_count": 7
        }
      ]
    },
    {
      "metadata": {
        "id": "ANEWml1imIUe",
        "colab_type": "code",
        "colab": {}
      },
      "cell_type": "code",
      "source": [
        "# write tweets to txt file\n",
        "file_out = 'trump_tweets.txt'\n",
        "\n",
        "with open(file_out, 'w', encoding = 'utf-8') as outputTxt:\n",
        "  outputTxt.write('\\n\\n'.join(trump_tweets))"
      ],
      "execution_count": 0,
      "outputs": []
    },
    {
      "metadata": {
        "id": "jIeTBKs_oJFW",
        "colab_type": "code",
        "outputId": "962609ca-72e6-418c-aa08-47c459576f9c",
        "colab": {
          "base_uri": "https://localhost:8080/",
          "height": 34
        }
      },
      "cell_type": "code",
      "source": [
        "# check size of file\n",
        "! ls -l trump_tweets.txt"
      ],
      "execution_count": 0,
      "outputs": [
        {
          "output_type": "stream",
          "text": [
            "-rw-r--r-- 1 root root 815655 Nov 20 02:21 trump_tweets.txt\n"
          ],
          "name": "stdout"
        }
      ]
    },
    {
      "metadata": {
        "id": "b6uf-RFZmyWf",
        "colab_type": "code",
        "colab": {}
      },
      "cell_type": "code",
      "source": [
        "# copy to drive\n",
        "! cp trump_tweets.txt ./gdrive/'My Drive'/NLPProject"
      ],
      "execution_count": 0,
      "outputs": []
    },
    {
      "metadata": {
        "id": "8K7K90upm1IH",
        "colab_type": "code",
        "outputId": "f2612c90-22ec-47e2-97e9-6dc73916196b",
        "colab": {
          "base_uri": "https://localhost:8080/",
          "height": 207
        }
      },
      "cell_type": "code",
      "source": [
        "# look at new txt file\n",
        "! cat trump_tweets.txt | head"
      ],
      "execution_count": 0,
      "outputs": [
        {
          "output_type": "stream",
          "text": [
            "Trump tweets: Still can’t believe that Bloomberg violated a firm OFF THE RECORD statement. Will they put out an apology?\n",
            "\n",
            "Trump tweets: Great day in North Carolina where Republicans will do very well!\n",
            "\n",
            "Trump tweets: The ABC/Washington Post Poll was by far the least accurate one 2 weeks out from the 2016 Election. I call it a suppression poll - but by Election Day they brought us, out of shame, to about even. They will never learn!\n",
            "\n",
            "Trump tweets: .@Rasmussen_Poll just came out at 48% approval rate despite the constant and intense Fake News. Higher than Election Day and higher than President Obama. Rasmussen was one of the most accurate Election Day polls!\n",
            "\n",
            "Trump tweets: https://t.co/c79zLeREOA\n",
            "\n"
          ],
          "name": "stdout"
        }
      ]
    },
    {
      "metadata": {
        "id": "tfqg5C-OpBSd",
        "colab_type": "text"
      },
      "cell_type": "markdown",
      "source": [
        "## Motivational Quotes"
      ]
    },
    {
      "metadata": {
        "id": "ZSchbHsFpPsX",
        "colab_type": "code",
        "outputId": "91d4def2-5fbd-4676-f4bd-7870540b8ff5",
        "colab": {
          "base_uri": "https://localhost:8080/",
          "height": 119
        }
      },
      "cell_type": "code",
      "source": [
        "# source https://github.com/mubaris/motivate\n",
        "! git clone https://github.com/mubaris/motivate.git\n",
        "! ls"
      ],
      "execution_count": 0,
      "outputs": [
        {
          "output_type": "stream",
          "text": [
            "Cloning into 'motivate'...\n",
            "remote: Enumerating objects: 1356, done.\u001b[K\n",
            "remote: Total 1356 (delta 0), reused 0 (delta 0), pack-reused 1356\u001b[K\n",
            "Receiving objects: 100% (1356/1356), 647.64 KiB | 1.38 MiB/s, done.\n",
            "Resolving deltas: 100% (725/725), done.\n",
            "gdrive\tmotivate  sample_data  since-20170120-processed.json  trump_tweets.txt\n"
          ],
          "name": "stdout"
        }
      ]
    },
    {
      "metadata": {
        "id": "3SDbB5nPpWTP",
        "colab_type": "code",
        "outputId": "c6874201-73d9-418c-e5b3-5f1155aae907",
        "colab": {
          "base_uri": "https://localhost:8080/",
          "height": 34
        }
      },
      "cell_type": "code",
      "source": [
        "# move into directory\n",
        "% cd motivate/motivate/data"
      ],
      "execution_count": 0,
      "outputs": [
        {
          "output_type": "stream",
          "text": [
            "/content/motivate/motivate/data\n"
          ],
          "name": "stdout"
        }
      ]
    },
    {
      "metadata": {
        "id": "mGzK8Tk2pd6T",
        "colab_type": "code",
        "colab": {}
      },
      "cell_type": "code",
      "source": [
        "# collect file names\n",
        "files = os.listdir()"
      ],
      "execution_count": 0,
      "outputs": []
    },
    {
      "metadata": {
        "id": "oRtxRzytqHsH",
        "colab_type": "code",
        "colab": {}
      },
      "cell_type": "code",
      "source": [
        "# extract quotes\n",
        "quotes = []\n",
        "for f in files:\n",
        "  with open(f, 'r', encoding = 'utf-8') as inputjson:\n",
        "    quote_json = json.loads(inputjson.read())['data']\n",
        "    qts = [q['author']+': '+q['quote'] for q in quote_json]\n",
        "    quotes += qts"
      ],
      "execution_count": 0,
      "outputs": []
    },
    {
      "metadata": {
        "id": "YGPOyHrZre6W",
        "colab_type": "code",
        "outputId": "1993e084-2edb-40ef-c9eb-ff8df5c425f9",
        "colab": {
          "base_uri": "https://localhost:8080/",
          "height": 34
        }
      },
      "cell_type": "code",
      "source": [
        "# number of quotes\n",
        "len(quotes)"
      ],
      "execution_count": 0,
      "outputs": [
        {
          "output_type": "execute_result",
          "data": {
            "text/plain": [
              "4136"
            ]
          },
          "metadata": {
            "tags": []
          },
          "execution_count": 16
        }
      ]
    },
    {
      "metadata": {
        "id": "6xQeAocarqJV",
        "colab_type": "code",
        "outputId": "419ad5b6-5058-4bdb-8d00-da31e17eac72",
        "colab": {
          "base_uri": "https://localhost:8080/",
          "height": 34
        }
      },
      "cell_type": "code",
      "source": [
        "# longest quote\n",
        "max([len(t) for t in quotes])"
      ],
      "execution_count": 0,
      "outputs": [
        {
          "output_type": "execute_result",
          "data": {
            "text/plain": [
              "421"
            ]
          },
          "metadata": {
            "tags": []
          },
          "execution_count": 17
        }
      ]
    },
    {
      "metadata": {
        "id": "mQkJ2g7Qq69_",
        "colab_type": "code",
        "outputId": "1496c170-fe12-4391-a027-b2aaf9bd4aaa",
        "colab": {
          "base_uri": "https://localhost:8080/",
          "height": 207
        }
      },
      "cell_type": "code",
      "source": [
        "# first 10 quotes\n",
        "quotes[:10]"
      ],
      "execution_count": 0,
      "outputs": [
        {
          "output_type": "execute_result",
          "data": {
            "text/plain": [
              "['Ellen Goodman: We ought to walk through the rooms of our lives not looking for flaws, but looking for potential.',\n",
              " 'Jim Rohn:  If you are not willing to risk the usual you will have to settle for the ordinary. ',\n",
              " 'Walt Disney: All our dreams can come true if we have the courage to pursue them.',\n",
              " 'Winston Churchill: Success is walking from failure to failure with no loss of enthusiasm.',\n",
              " 'Chris Grosser: Opportunities don’t happen, you create them.',\n",
              " 'Albert Einstein: Try not to become a person of success, but rather try to become a person of value.',\n",
              " 'Eleanor Roosevelt: Great minds discuss ideas; average minds discuss events; small minds discuss people.',\n",
              " 'Thomas A. Edison:  I have not failed. I’ve just found 10,000 ways that won’t work.',\n",
              " 'Oscar Wilde: What seems to us as bitter trials are often blessings in disguise.',\n",
              " 'Bruce Feirstein: The distance between insanity and genius is measured only by success. ']"
            ]
          },
          "metadata": {
            "tags": []
          },
          "execution_count": 18
        }
      ]
    },
    {
      "metadata": {
        "id": "IIVM8Emzq-Pv",
        "colab_type": "code",
        "colab": {}
      },
      "cell_type": "code",
      "source": [
        "# write quotes to txt file\n",
        "file_out = 'motivational_quotes.txt'\n",
        "\n",
        "with open(file_out, 'w', encoding = 'utf-8') as outputTxt:\n",
        "  outputTxt.write('\\n\\n'.join(quotes))"
      ],
      "execution_count": 0,
      "outputs": []
    },
    {
      "metadata": {
        "colab_type": "code",
        "outputId": "d70eb18e-f976-4669-8dea-35c9dcda6116",
        "id": "21VGOujCrWy0",
        "colab": {
          "base_uri": "https://localhost:8080/",
          "height": 34
        }
      },
      "cell_type": "code",
      "source": [
        "# check size of file\n",
        "! ls -l motivational_quotes.txt"
      ],
      "execution_count": 0,
      "outputs": [
        {
          "output_type": "stream",
          "text": [
            "-rw-r--r-- 1 root root 486089 Nov 20 02:21 motivational_quotes.txt\n"
          ],
          "name": "stdout"
        }
      ]
    },
    {
      "metadata": {
        "id": "uSTaSbKytTaF",
        "colab_type": "code",
        "outputId": "0a168b93-fcdb-4cac-cc02-4f01b5d774fd",
        "colab": {
          "base_uri": "https://localhost:8080/",
          "height": 34
        }
      },
      "cell_type": "code",
      "source": [
        "# move into top directory\n",
        "% cd ../../.."
      ],
      "execution_count": 0,
      "outputs": [
        {
          "output_type": "stream",
          "text": [
            "/content\n"
          ],
          "name": "stdout"
        }
      ]
    },
    {
      "metadata": {
        "colab_type": "code",
        "id": "al7jAp80rWy9",
        "colab": {}
      },
      "cell_type": "code",
      "source": [
        "# copy txt file to drive\n",
        "! cp ./motivate/motivate/data/motivational_quotes.txt ./gdrive/'My Drive'/NLPProject"
      ],
      "execution_count": 0,
      "outputs": []
    },
    {
      "metadata": {
        "colab_type": "code",
        "outputId": "e6b501da-75d3-4ce7-dba0-796d1dfb271f",
        "id": "IslgNcPDrWzA",
        "colab": {
          "base_uri": "https://localhost:8080/",
          "height": 207
        }
      },
      "cell_type": "code",
      "source": [
        "# look at new txt file\n",
        "! cat ./motivate/motivate/data/motivational_quotes.txt | head"
      ],
      "execution_count": 0,
      "outputs": [
        {
          "output_type": "stream",
          "text": [
            "Ellen Goodman: We ought to walk through the rooms of our lives not looking for flaws, but looking for potential.\n",
            "\n",
            "Jim Rohn:  If you are not willing to risk the usual you will have to settle for the ordinary. \n",
            "\n",
            "Walt Disney: All our dreams can come true if we have the courage to pursue them.\n",
            "\n",
            "Winston Churchill: Success is walking from failure to failure with no loss of enthusiasm.\n",
            "\n",
            "Chris Grosser: Opportunities don’t happen, you create them.\n",
            "\n"
          ],
          "name": "stdout"
        }
      ]
    },
    {
      "metadata": {
        "id": "zJVzWuNGtsAR",
        "colab_type": "text"
      },
      "cell_type": "markdown",
      "source": [
        "## Jokes"
      ]
    },
    {
      "metadata": {
        "colab_type": "code",
        "outputId": "40c1f0d9-b9f6-4e4b-e74a-a7196bb93cfe",
        "id": "gFtH4R_EuL60",
        "colab": {
          "base_uri": "https://localhost:8080/",
          "height": 598
        }
      },
      "cell_type": "code",
      "source": [
        "# source https://github.com/taivop/joke-dataset\n",
        "! wget https://raw.githubusercontent.com/taivop/joke-dataset/master/stupidstuff.json\n",
        "! wget https://raw.githubusercontent.com/taivop/joke-dataset/master/wocka.json\n",
        "! wget https://raw.githubusercontent.com/taivop/joke-dataset/master/reddit_jokes.json"
      ],
      "execution_count": 0,
      "outputs": [
        {
          "output_type": "stream",
          "text": [
            "--2018-11-20 02:21:40--  https://raw.githubusercontent.com/taivop/joke-dataset/master/stupidstuff.json\n",
            "Resolving raw.githubusercontent.com (raw.githubusercontent.com)... 151.101.0.133, 151.101.64.133, 151.101.128.133, ...\n",
            "Connecting to raw.githubusercontent.com (raw.githubusercontent.com)|151.101.0.133|:443... connected.\n",
            "HTTP request sent, awaiting response... 200 OK\n",
            "Length: 2616857 (2.5M) [text/plain]\n",
            "Saving to: ‘stupidstuff.json’\n",
            "\n",
            "stupidstuff.json    100%[===================>]   2.50M  --.-KB/s    in 0.04s   \n",
            "\n",
            "2018-11-20 02:21:41 (60.9 MB/s) - ‘stupidstuff.json’ saved [2616857/2616857]\n",
            "\n",
            "--2018-11-20 02:21:42--  https://raw.githubusercontent.com/taivop/joke-dataset/master/wocka.json\n",
            "Resolving raw.githubusercontent.com (raw.githubusercontent.com)... 151.101.0.133, 151.101.64.133, 151.101.128.133, ...\n",
            "Connecting to raw.githubusercontent.com (raw.githubusercontent.com)|151.101.0.133|:443... connected.\n",
            "HTTP request sent, awaiting response... 200 OK\n",
            "Length: 7718338 (7.4M) [text/plain]\n",
            "Saving to: ‘wocka.json’\n",
            "\n",
            "wocka.json          100%[===================>]   7.36M  --.-KB/s    in 0.06s   \n",
            "\n",
            "2018-11-20 02:21:43 (119 MB/s) - ‘wocka.json’ saved [7718338/7718338]\n",
            "\n",
            "--2018-11-20 02:21:45--  https://raw.githubusercontent.com/taivop/joke-dataset/master/reddit_jokes.json\n",
            "Resolving raw.githubusercontent.com (raw.githubusercontent.com)... 151.101.0.133, 151.101.64.133, 151.101.128.133, ...\n",
            "Connecting to raw.githubusercontent.com (raw.githubusercontent.com)|151.101.0.133|:443... connected.\n",
            "HTTP request sent, awaiting response... 200 OK\n",
            "Length: 68662116 (65M) [text/plain]\n",
            "Saving to: ‘reddit_jokes.json’\n",
            "\n",
            "reddit_jokes.json   100%[===================>]  65.48M   259MB/s    in 0.3s    \n",
            "\n",
            "2018-11-20 02:21:47 (259 MB/s) - ‘reddit_jokes.json’ saved [68662116/68662116]\n",
            "\n"
          ],
          "name": "stdout"
        }
      ]
    },
    {
      "metadata": {
        "colab_type": "code",
        "id": "y0MrPgtCuL7B",
        "colab": {}
      },
      "cell_type": "code",
      "source": [
        "# read in json files\n",
        "files = ['stupidstuff.json', 'wocka.json', 'reddit_jokes.json']\n",
        "\n",
        "json_list = []\n",
        "for f in files:\n",
        "  with open(f, 'r', encoding = 'utf-8') as inputjson:\n",
        "    jokes_json = json.loads(inputjson.read())\n",
        "  json_list.append(jokes_json)"
      ],
      "execution_count": 0,
      "outputs": []
    },
    {
      "metadata": {
        "id": "xVJyAV2vvVKD",
        "colab_type": "code",
        "outputId": "08823801-4089-4cd1-e1b4-e33bc45b44c2",
        "colab": {
          "base_uri": "https://localhost:8080/",
          "height": 139
        }
      },
      "cell_type": "code",
      "source": [
        "# compare files\n",
        "for jokes in json_list:\n",
        "  print('Number of jokes in file:', len(jokes), \n",
        "        '==>', jokes[0].keys(), '\\n\\t', jokes[0])"
      ],
      "execution_count": 0,
      "outputs": [
        {
          "output_type": "stream",
          "text": [
            "Number of jokes in file: 3773 ==> dict_keys(['body', 'category', 'id', 'rating']) \n",
            "\t {'body': 'A blackjack dealer and a player with a thirteen count in his hand\\nwere arguing about whether or not it was appropriate to tip the\\ndealer.\\n\\nThe player said, \"When I get bad cards, it\\'s not the dealer\\'s fault.\\nAccordingly, when I get good cards, the dealer obviously had nothing\\nto do with it so, why should I tip him?\"\\n\\nThe dealer said, \"When you eat out do you tip the waiter?\"\\n\\n\"Yes.\"\\n\\n\"Well then, he serves you food, I\\'m serving you cards, so you should\\ntip me.\"\\n\\n\"Okay, but, the waiter gives me what I ask for. I\\'ll take an eight.\"', 'category': 'Children', 'id': 1, 'rating': 2.63}\n",
            "Number of jokes in file: 10019 ==> dict_keys(['body', 'category', 'id', 'title']) \n",
            "\t {'body': 'What do you call a cow with no legs?\\r\\n\\r\\nGround Beef!', 'category': 'Animal', 'id': 1, 'title': 'Cow With No Legs'}\n",
            "Number of jokes in file: 194553 ==> dict_keys(['body', 'id', 'score', 'title']) \n",
            "\t {'body': 'Now I have to say \"Leroy can you please paint the fence?\"', 'id': '5tz52q', 'score': 1, 'title': 'I hate how you cant even say black paint anymore'}\n"
          ],
          "name": "stdout"
        }
      ]
    },
    {
      "metadata": {
        "id": "WL0drCKTyZIh",
        "colab_type": "code",
        "colab": {}
      },
      "cell_type": "code",
      "source": [
        "# keep wocka file\n",
        "jokes_json = json_list[1]"
      ],
      "execution_count": 0,
      "outputs": []
    },
    {
      "metadata": {
        "colab_type": "code",
        "outputId": "636a9599-f77d-49e7-852e-7aaf24bf6d61",
        "id": "aRpiXZ93uL7M",
        "colab": {
          "base_uri": "https://localhost:8080/",
          "height": 34
        }
      },
      "cell_type": "code",
      "source": [
        "# extract jokes\n",
        "jokes = [j['title']+': '+j['body'].replace('\\r\\n', '\\n\\t') for j in jokes_json]\n",
        "# longest joke\n",
        "joke_len = [len(j) for j in jokes]\n",
        "max(joke_len)"
      ],
      "execution_count": 0,
      "outputs": [
        {
          "output_type": "execute_result",
          "data": {
            "text/plain": [
              "63272"
            ]
          },
          "metadata": {
            "tags": []
          },
          "execution_count": 28
        }
      ]
    },
    {
      "metadata": {
        "id": "n5rKgpAx2q03",
        "colab_type": "code",
        "outputId": "a7e38205-f027-4073-9bab-1c3f191d3eb7",
        "colab": {
          "base_uri": "https://localhost:8080/",
          "height": 173
        }
      },
      "cell_type": "code",
      "source": [
        "# print some of the longest joke\n",
        "print(jokes[np.argmax(joke_len)][:500])"
      ],
      "execution_count": 0,
      "outputs": [
        {
          "output_type": "stream",
          "text": [
            "Cra-Z Laws X-treme!: Due to high demmand, I will not maker you wait for all 50 states to come out, instead, here is ALL OF THE 51 states of laws.\n",
            "\t\n",
            "\t\n",
            "\tAlabama\n",
            "\tâ¢ A 1950 anti-obscenity law in Irondale, Ala., prohibited any showing of anyone nude or \"in a substantially nude state\" except a babe in arms. \n",
            "\tâ¢ Anniston: You may not wear blue jeans down Noble Street. \n",
            "\tâ¢ An ordinance in Linden, Ala., provided that all women of \"uncertain chastity\" had to be off the streets by 9 p.m. \n",
            "\tâ¢ Bear w\n"
          ],
          "name": "stdout"
        }
      ]
    },
    {
      "metadata": {
        "id": "v00ugpHC3O1D",
        "colab_type": "code",
        "outputId": "f9e5c86f-f458-4bcf-c603-ae66aededf7f",
        "colab": {
          "base_uri": "https://localhost:8080/",
          "height": 347
        }
      },
      "cell_type": "code",
      "source": [
        "# look at distribution of joke lengths\n",
        "plt.plot(sorted(joke_len))\n",
        "plt.show()"
      ],
      "execution_count": 0,
      "outputs": [
        {
          "output_type": "display_data",
          "data": {
            "image/png": "[encoded data removed]",
            "text/plain": [
              "<matplotlib.figure.Figure at 0x7f3df2756630>"
            ]
          },
          "metadata": {
            "tags": []
          }
        }
      ]
    },
    {
      "metadata": {
        "id": "jsQJ0x224aFK",
        "colab_type": "code",
        "outputId": "da8fb628-324b-40bb-811e-9b153e5d3ff5",
        "colab": {
          "base_uri": "https://localhost:8080/",
          "height": 34
        }
      },
      "cell_type": "code",
      "source": [
        "# length of 8000th longest joke\n",
        "sorted(joke_len)[8000]"
      ],
      "execution_count": 0,
      "outputs": [
        {
          "output_type": "execute_result",
          "data": {
            "text/plain": [
              "899"
            ]
          },
          "metadata": {
            "tags": []
          },
          "execution_count": 31
        }
      ]
    },
    {
      "metadata": {
        "id": "WrTSvk7o4_GL",
        "colab_type": "code",
        "outputId": "94d3b14a-cd6a-429f-966c-3f53258bf6c1",
        "colab": {
          "base_uri": "https://localhost:8080/",
          "height": 34
        }
      },
      "cell_type": "code",
      "source": [
        "# remove jokes over 900 char long\n",
        "jokes = [j for j in jokes if len(j)<=900]\n",
        "# new longest joke\n",
        "joke_len = [len(j) for j in jokes]\n",
        "max(joke_len)"
      ],
      "execution_count": 0,
      "outputs": [
        {
          "output_type": "execute_result",
          "data": {
            "text/plain": [
              "900"
            ]
          },
          "metadata": {
            "tags": []
          },
          "execution_count": 32
        }
      ]
    },
    {
      "metadata": {
        "id": "3tSawW-r5kIo",
        "colab_type": "code",
        "outputId": "ed2bda77-e697-4dcd-bb81-b19044cde3e2",
        "colab": {
          "base_uri": "https://localhost:8080/",
          "height": 34
        }
      },
      "cell_type": "code",
      "source": [
        "# number of jokes left \n",
        "len(jokes)"
      ],
      "execution_count": 0,
      "outputs": [
        {
          "output_type": "execute_result",
          "data": {
            "text/plain": [
              "8007"
            ]
          },
          "metadata": {
            "tags": []
          },
          "execution_count": 33
        }
      ]
    },
    {
      "metadata": {
        "colab_type": "code",
        "outputId": "028c279f-bbc8-4b80-8d01-a9a306bf8006",
        "id": "8m4wevZvuL7Q",
        "colab": {
          "base_uri": "https://localhost:8080/",
          "height": 207
        }
      },
      "cell_type": "code",
      "source": [
        "# first 10 jokes\n",
        "jokes[:10]"
      ],
      "execution_count": 0,
      "outputs": [
        {
          "output_type": "execute_result",
          "data": {
            "text/plain": [
              "['Cow With No Legs: What do you call a cow with no legs?\\n\\t\\n\\tGround Beef!',\n",
              " 'Jumping Cow: What do you call a cow jumping over a barbed wire fence?\\n\\t\\n\\tUtter destruction.',\n",
              " \"Black, White and Red: What's black and white and red all over?\\n\\t\\n\\tA newspaper.\",\n",
              " 'Guy in a Bar: So, this guy walks into a bar.\\n\\t\\n\\tAnd says, \"ouch\".',\n",
              " \"Progress: If the opposite of pro is con, isn't the opposite of progress, congress?\",\n",
              " 'Guy with no Limbs: What do you call a guy with no arms or legs floating in the ocean?\\n\\t\\n\\tBob!',\n",
              " \"Antenna: I went to a wedding the other day.  Two antennas were getting married.  It wasn't much of a wedding ceremony, but it was one heck of a reception!\",\n",
              " \"Into the Bar: There's this dyslexic guy... he walked into a bra...\",\n",
              " 'Rain: Joel: \"How\\'s the progress on new house that you are building Pete?\"\\n\\tPeter: \"Things are really slow at the moment.\"\\n\\tJoel: \"Yeah, I guess all this rain would be putting a dampener on things...\"',\n",
              " 'White Horse: A white horse walked into a bar.  The barman saw him and said,  \"We have a whiskey named after you!\"\\n\\t\\n\\tThe horse looked puzzled and said, \"What, Eric?\"']"
            ]
          },
          "metadata": {
            "tags": []
          },
          "execution_count": 34
        }
      ]
    },
    {
      "metadata": {
        "colab_type": "code",
        "id": "IvIltgXuuL7U",
        "colab": {}
      },
      "cell_type": "code",
      "source": [
        "# write jokes to txt file\n",
        "file_out = 'jokes.txt'\n",
        "\n",
        "with open(file_out, 'w', encoding = 'utf-8') as outputTxt:\n",
        "  outputTxt.write('\\n\\n'.join(jokes))"
      ],
      "execution_count": 0,
      "outputs": []
    },
    {
      "metadata": {
        "colab_type": "code",
        "outputId": "98201369-4354-4f21-e3d4-ecb3088ae1b9",
        "id": "X1eGq0hJuL7Y",
        "colab": {
          "base_uri": "https://localhost:8080/",
          "height": 34
        }
      },
      "cell_type": "code",
      "source": [
        "# check size of file\n",
        "! ls -l jokes.txt"
      ],
      "execution_count": 0,
      "outputs": [
        {
          "output_type": "stream",
          "text": [
            "-rw-r--r-- 1 root root 2449756 Nov 20 02:21 jokes.txt\n"
          ],
          "name": "stdout"
        }
      ]
    },
    {
      "metadata": {
        "colab_type": "code",
        "id": "QkyvwQnnuL7c",
        "colab": {}
      },
      "cell_type": "code",
      "source": [
        "# copy to drive\n",
        "! cp jokes.txt ./gdrive/'My Drive'/NLPProject"
      ],
      "execution_count": 0,
      "outputs": []
    },
    {
      "metadata": {
        "colab_type": "code",
        "outputId": "181b6d50-b30c-41f4-c8e1-50dc05d06360",
        "id": "0iPacRd-uL7f",
        "colab": {
          "base_uri": "https://localhost:8080/",
          "height": 187
        }
      },
      "cell_type": "code",
      "source": [
        "# look at new txt file\n",
        "! cat jokes.txt | head"
      ],
      "execution_count": 0,
      "outputs": [
        {
          "output_type": "stream",
          "text": [
            "Cow With No Legs: What do you call a cow with no legs?\n",
            "\t\n",
            "\tGround Beef!\n",
            "\n",
            "Jumping Cow: What do you call a cow jumping over a barbed wire fence?\n",
            "\t\n",
            "\tUtter destruction.\n",
            "\n",
            "Black, White and Red: What's black and white and red all over?\n",
            "\t\n"
          ],
          "name": "stdout"
        }
      ]
    },
    {
      "metadata": {
        "id": "U9If9nLO8Snp",
        "colab_type": "text"
      },
      "cell_type": "markdown",
      "source": [
        "## Song Lyrics"
      ]
    },
    {
      "metadata": {
        "id": "WcegOkboE3CP",
        "colab_type": "code",
        "colab": {}
      },
      "cell_type": "code",
      "source": [
        "# source https://www.kaggle.com/mousehead/songlyrics\n",
        "song_path = \"./gdrive/My Drive/NLPProject/songdata.csv\""
      ],
      "execution_count": 0,
      "outputs": []
    },
    {
      "metadata": {
        "id": "ZjqSqP1oE5SO",
        "colab_type": "code",
        "colab": {}
      },
      "cell_type": "code",
      "source": [
        "# read in csv file as a dataframe\n",
        "song_df = pd.read_csv(song_path)"
      ],
      "execution_count": 0,
      "outputs": []
    },
    {
      "metadata": {
        "id": "ZsQMGta-GnoV",
        "colab_type": "code",
        "outputId": "d81a321b-0eb9-4a0d-981e-d6711ff97aad",
        "colab": {
          "base_uri": "https://localhost:8080/",
          "height": 34
        }
      },
      "cell_type": "code",
      "source": [
        "# number of songs\n",
        "len(song_df)"
      ],
      "execution_count": 5,
      "outputs": [
        {
          "output_type": "execute_result",
          "data": {
            "text/plain": [
              "57650"
            ]
          },
          "metadata": {
            "tags": []
          },
          "execution_count": 5
        }
      ]
    },
    {
      "metadata": {
        "id": "sUIK9A24GXPJ",
        "colab_type": "code",
        "outputId": "a651aed2-4856-45ab-e65e-41c07273a6b8",
        "colab": {
          "base_uri": "https://localhost:8080/",
          "height": 529
        }
      },
      "cell_type": "code",
      "source": [
        "# first ten songs\n",
        "song_df[:10]"
      ],
      "execution_count": 6,
      "outputs": [
        {
          "output_type": "execute_result",
          "data": {
            "text/html": [
              "<div>\n",
              "<style scoped>\n",
              "    .dataframe tbody tr th:only-of-type {\n",
              "        vertical-align: middle;\n",
              "    }\n",
              "\n",
              "    .dataframe tbody tr th {\n",
              "        vertical-align: top;\n",
              "    }\n",
              "\n",
              "    .dataframe thead th {\n",
              "        text-align: right;\n",
              "    }\n",
              "</style>\n",
              "<table border=\"1\" class=\"dataframe\">\n",
              "  <thead>\n",
              "    <tr style=\"text-align: right;\">\n",
              "      <th></th>\n",
              "      <th>artist</th>\n",
              "      <th>song</th>\n",
              "      <th>link</th>\n",
              "      <th>text</th>\n",
              "    </tr>\n",
              "  </thead>\n",
              "  <tbody>\n",
              "    <tr>\n",
              "      <th>0</th>\n",
              "      <td>ABBA</td>\n",
              "      <td>Ahe's My Kind Of Girl</td>\n",
              "      <td>/a/abba/ahes+my+kind+of+girl_20598417.html</td>\n",
              "      <td>Look at her face, it's a wonderful face  \\nAnd...</td>\n",
              "    </tr>\n",
              "    <tr>\n",
              "      <th>1</th>\n",
              "      <td>ABBA</td>\n",
              "      <td>Andante, Andante</td>\n",
              "      <td>/a/abba/andante+andante_20002708.html</td>\n",
              "      <td>Take it easy with me, please  \\nTouch me gentl...</td>\n",
              "    </tr>\n",
              "    <tr>\n",
              "      <th>2</th>\n",
              "      <td>ABBA</td>\n",
              "      <td>As Good As New</td>\n",
              "      <td>/a/abba/as+good+as+new_20003033.html</td>\n",
              "      <td>I'll never know why I had to go  \\nWhy I had t...</td>\n",
              "    </tr>\n",
              "    <tr>\n",
              "      <th>3</th>\n",
              "      <td>ABBA</td>\n",
              "      <td>Bang</td>\n",
              "      <td>/a/abba/bang_20598415.html</td>\n",
              "      <td>Making somebody happy is a question of give an...</td>\n",
              "    </tr>\n",
              "    <tr>\n",
              "      <th>4</th>\n",
              "      <td>ABBA</td>\n",
              "      <td>Bang-A-Boomerang</td>\n",
              "      <td>/a/abba/bang+a+boomerang_20002668.html</td>\n",
              "      <td>Making somebody happy is a question of give an...</td>\n",
              "    </tr>\n",
              "    <tr>\n",
              "      <th>5</th>\n",
              "      <td>ABBA</td>\n",
              "      <td>Burning My Bridges</td>\n",
              "      <td>/a/abba/burning+my+bridges_20003011.html</td>\n",
              "      <td>Well, you hoot and you holler and you make me ...</td>\n",
              "    </tr>\n",
              "    <tr>\n",
              "      <th>6</th>\n",
              "      <td>ABBA</td>\n",
              "      <td>Cassandra</td>\n",
              "      <td>/a/abba/cassandra_20002811.html</td>\n",
              "      <td>Down in the street they're all singing and sho...</td>\n",
              "    </tr>\n",
              "    <tr>\n",
              "      <th>7</th>\n",
              "      <td>ABBA</td>\n",
              "      <td>Chiquitita</td>\n",
              "      <td>/a/abba/chiquitita_20002978.html</td>\n",
              "      <td>Chiquitita, tell me what's wrong  \\nYou're enc...</td>\n",
              "    </tr>\n",
              "    <tr>\n",
              "      <th>8</th>\n",
              "      <td>ABBA</td>\n",
              "      <td>Crazy World</td>\n",
              "      <td>/a/abba/crazy+world_20003013.html</td>\n",
              "      <td>I was out with the morning sun  \\nCouldn't sle...</td>\n",
              "    </tr>\n",
              "    <tr>\n",
              "      <th>9</th>\n",
              "      <td>ABBA</td>\n",
              "      <td>Crying Over You</td>\n",
              "      <td>/a/abba/crying+over+you_20177611.html</td>\n",
              "      <td>I'm waitin' for you baby  \\nI'm sitting all al...</td>\n",
              "    </tr>\n",
              "  </tbody>\n",
              "</table>\n",
              "</div>"
            ],
            "text/plain": [
              "  artist                   song                                        link  \\\n",
              "0   ABBA  Ahe's My Kind Of Girl  /a/abba/ahes+my+kind+of+girl_20598417.html   \n",
              "1   ABBA       Andante, Andante       /a/abba/andante+andante_20002708.html   \n",
              "2   ABBA         As Good As New        /a/abba/as+good+as+new_20003033.html   \n",
              "3   ABBA                   Bang                  /a/abba/bang_20598415.html   \n",
              "4   ABBA       Bang-A-Boomerang      /a/abba/bang+a+boomerang_20002668.html   \n",
              "5   ABBA     Burning My Bridges    /a/abba/burning+my+bridges_20003011.html   \n",
              "6   ABBA              Cassandra             /a/abba/cassandra_20002811.html   \n",
              "7   ABBA             Chiquitita            /a/abba/chiquitita_20002978.html   \n",
              "8   ABBA            Crazy World           /a/abba/crazy+world_20003013.html   \n",
              "9   ABBA        Crying Over You       /a/abba/crying+over+you_20177611.html   \n",
              "\n",
              "                                                text  \n",
              "0  Look at her face, it's a wonderful face  \\nAnd...  \n",
              "1  Take it easy with me, please  \\nTouch me gentl...  \n",
              "2  I'll never know why I had to go  \\nWhy I had t...  \n",
              "3  Making somebody happy is a question of give an...  \n",
              "4  Making somebody happy is a question of give an...  \n",
              "5  Well, you hoot and you holler and you make me ...  \n",
              "6  Down in the street they're all singing and sho...  \n",
              "7  Chiquitita, tell me what's wrong  \\nYou're enc...  \n",
              "8  I was out with the morning sun  \\nCouldn't sle...  \n",
              "9  I'm waitin' for you baby  \\nI'm sitting all al...  "
            ]
          },
          "metadata": {
            "tags": []
          },
          "execution_count": 6
        }
      ]
    },
    {
      "metadata": {
        "id": "Qmcdi98-Gh4Y",
        "colab_type": "code",
        "outputId": "259295fd-fc1a-4965-e174-71ed3140c0ce",
        "colab": {
          "base_uri": "https://localhost:8080/",
          "height": 1071
        }
      },
      "cell_type": "code",
      "source": [
        "# number of songs by artist\n",
        "song_df.artist.value_counts()"
      ],
      "execution_count": 7,
      "outputs": [
        {
          "output_type": "execute_result",
          "data": {
            "text/plain": [
              "Donna Summer                                    191\n",
              "Gordon Lightfoot                                189\n",
              "George Strait                                   188\n",
              "Bob Dylan                                       188\n",
              "Loretta Lynn                                    187\n",
              "Reba Mcentire                                   187\n",
              "Cher                                            187\n",
              "Alabama                                         187\n",
              "Chaka Khan                                      186\n",
              "Dean Martin                                     186\n",
              "Neil Young                                      185\n",
              "Hank Williams Jr.                               185\n",
              "Nazareth                                        184\n",
              "Indigo Girls                                    184\n",
              "Cliff Richard                                   184\n",
              "America                                         184\n",
              "Johnny Cash                                     183\n",
              "Kiss                                            183\n",
              "Chris Rea                                       182\n",
              "Bon Jovi                                        181\n",
              "Fleetwood Mac                                   180\n",
              "Dolly Parton                                    180\n",
              "Deep Purple                                     179\n",
              "Rolling Stones                                  179\n",
              "Roy Orbison                                     178\n",
              "Rod Stewart                                     178\n",
              "The Beatles                                     178\n",
              "Randy Travis                                    177\n",
              "Morrissey                                       177\n",
              "James Taylor                                    177\n",
              "                                               ... \n",
              "Side A                                           11\n",
              "Yukmouth                                         11\n",
              "Walk The Moon                                    11\n",
              "Independence Day                                 11\n",
              "Yonder Mountain String Band                      10\n",
              "Koes Plus                                        10\n",
              "Quarashi                                         10\n",
              "Yung Joc                                          9\n",
              "Next To Normal                                    9\n",
              "Xentrix                                           9\n",
              "Joseph And The Amazing Technicolor Dreamcoat      8\n",
              "Qntal                                             8\n",
              "Yeng Constantino                                  8\n",
              "X-Raided                                          7\n",
              "Young Dro                                         7\n",
              "Gipsy Kings                                       5\n",
              "Van Der Graaf Generator                           5\n",
              "Unknown                                           4\n",
              "Soundtracks                                       3\n",
              "Exo                                               3\n",
              "Various Artists                                   3\n",
              "Xavier Naidoo                                     3\n",
              "Eppu Normaali                                     3\n",
              "Zazie                                             2\n",
              "Ungu                                              2\n",
              "Exo-K                                             2\n",
              "U-Kiss                                            1\n",
              "Zed                                               1\n",
              "Zoe                                               1\n",
              "X-Treme                                           1\n",
              "Name: artist, Length: 643, dtype: int64"
            ]
          },
          "metadata": {
            "tags": []
          },
          "execution_count": 7
        }
      ]
    },
    {
      "metadata": {
        "id": "8nJceLGoI_GR",
        "colab_type": "code",
        "outputId": "d3bbcfb3-357c-4a86-f87e-3bc80921f76f",
        "colab": {
          "base_uri": "https://localhost:8080/",
          "height": 85
        }
      },
      "cell_type": "code",
      "source": [
        "# write subset of songs to txt files\n",
        "num_songs = [100, 500, 1000, 2500]\n",
        "\n",
        "for n in num_songs:\n",
        "  songs = []\n",
        "  maxlen = 0\n",
        "  for i, r in song_df.sample(n, random_state=n).iterrows():\n",
        "    s = '-'+r['song']+' by '+r['artist']+'-\\n'+r['text']\n",
        "    songs.append(s)\n",
        "    maxlen = max(maxlen, len(s))\n",
        "    \n",
        "  # write song sample to txt file\n",
        "  file_out = 'songs'+str(n)+'.txt'\n",
        "  with open(file_out, 'w', encoding = 'utf-8') as outputTxt:\n",
        "    outputTxt.write('\\n\\n'.join(songs))\n",
        "  print(maxlen)"
      ],
      "execution_count": 8,
      "outputs": [
        {
          "output_type": "stream",
          "text": [
            "3437\n",
            "4015\n",
            "3991\n",
            "4018\n"
          ],
          "name": "stdout"
        }
      ]
    },
    {
      "metadata": {
        "colab_type": "code",
        "outputId": "1ea6fa97-7faf-4b26-a9f1-c814d0619317",
        "id": "v_7wCWmgM5m1",
        "colab": {
          "base_uri": "https://localhost:8080/",
          "height": 85
        }
      },
      "cell_type": "code",
      "source": [
        "# check size of files 100, 500, 1000, 2500\n",
        "! ls -l songs100.txt\n",
        "! ls -l songs500.txt\n",
        "! ls -l songs1000.txt\n",
        "! ls -l songs2500.txt"
      ],
      "execution_count": 9,
      "outputs": [
        {
          "output_type": "stream",
          "text": [
            "-rw-r--r-- 1 root root 118265 Nov 23 15:42 songs100.txt\n",
            "-rw-r--r-- 1 root root 617600 Nov 23 15:42 songs500.txt\n",
            "-rw-r--r-- 1 root root 1206870 Nov 23 15:42 songs1000.txt\n",
            "-rw-r--r-- 1 root root 3074571 Nov 23 15:42 songs2500.txt\n"
          ],
          "name": "stdout"
        }
      ]
    },
    {
      "metadata": {
        "colab_type": "code",
        "id": "wiTknWnbM5m4",
        "colab": {}
      },
      "cell_type": "code",
      "source": [
        "# copy to drive\n",
        "! cp songs100.txt ./gdrive/'My Drive'/NLPProject\n",
        "! cp songs500.txt ./gdrive/'My Drive'/NLPProject\n",
        "! cp songs1000.txt ./gdrive/'My Drive'/NLPProject\n",
        "! cp songs2500.txt ./gdrive/'My Drive'/NLPProject"
      ],
      "execution_count": 0,
      "outputs": []
    },
    {
      "metadata": {
        "colab_type": "code",
        "outputId": "0b96dbad-2261-4a23-ee3d-69bdc09a45d1",
        "id": "neMvPSE1M5m5",
        "colab": {
          "base_uri": "https://localhost:8080/",
          "height": 187
        }
      },
      "cell_type": "code",
      "source": [
        "# look at new txt file\n",
        "! cat songs100.txt | head"
      ],
      "execution_count": 11,
      "outputs": [
        {
          "output_type": "stream",
          "text": [
            "-Dear God by Elton John-\n",
            "Dear God, are you there  \n",
            "Can you hear me, do you care  \n",
            "Dear God, here are we  \n",
            "Less than perfect, far from free  \n",
            "  \n",
            "Oh we take what we get and we don't take no more  \n",
            "But we sometimes forget what it was you created us for  \n",
            "  \n",
            "Dear God, now's the time  \n"
          ],
          "name": "stdout"
        }
      ]
    },
    {
      "metadata": {
        "id": "dbgCwY7_8Sa_",
        "colab_type": "text"
      },
      "cell_type": "markdown",
      "source": [
        "## Food Recipes"
      ]
    },
    {
      "metadata": {
        "id": "oKI9abFoRwX0",
        "colab_type": "code",
        "colab": {
          "base_uri": "https://localhost:8080/",
          "height": 204
        },
        "outputId": "425cd71b-d149-4e29-a978-24564eef5a51"
      },
      "cell_type": "code",
      "source": [
        "# source http://www.ffts.com/recipes.htm, https://gist.github.com/nylki/1efbaa36635956d35bcc\n",
        "! wget http://www.ffts.com/recipes/allrecip.zip"
      ],
      "execution_count": 99,
      "outputs": [
        {
          "output_type": "stream",
          "text": [
            "--2018-11-23 16:44:16--  http://www.ffts.com/recipes/allrecip.zip\n",
            "Resolving www.ffts.com (www.ffts.com)... 66.96.149.1\n",
            "Connecting to www.ffts.com (www.ffts.com)|66.96.149.1|:80... connected.\n",
            "HTTP request sent, awaiting response... 200 OK\n",
            "Length: 810068 (791K) [application/zip]\n",
            "Saving to: ‘allrecip.zip’\n",
            "\n",
            "allrecip.zip        100%[===================>] 791.08K  4.81MB/s    in 0.2s    \n",
            "\n",
            "2018-11-23 16:44:16 (4.81 MB/s) - ‘allrecip.zip’ saved [810068/810068]\n",
            "\n"
          ],
          "name": "stdout"
        }
      ]
    },
    {
      "metadata": {
        "id": "5zCw4xXuVWwT",
        "colab_type": "code",
        "colab": {
          "base_uri": "https://localhost:8080/",
          "height": 221
        },
        "outputId": "bf0140ef-2682-40d2-f933-daf246d27755"
      },
      "cell_type": "code",
      "source": [
        "# unzip and look at file\n",
        "! unzip allrecip.zip\n",
        "! cat allrecip.mmf | head"
      ],
      "execution_count": 100,
      "outputs": [
        {
          "output_type": "stream",
          "text": [
            "Archive:  allrecip.zip\n",
            "  inflating: allrecip.mmf            \n",
            "---------- Recipe via Meal-Master (tm) v8.05\n",
            " \n",
            "      Title: Bar-B-Que Chuck Roast (Missouri Beef Council)\n",
            " Categories: Beef, Main dish\n",
            "      Yield: 8 servings\n",
            " \n",
            "      3 lb CHUCK ROAST                         1 ea BEEF MARINADE RECIPE\n",
            " \n",
            "  *    USE A 3 LB CHUCK ROAST CUT ABOUT 1 1/2 TO 2 INCHES THICK.\n",
            "  **   SEE MARINADES CATAGORY FOR MARINADE RECIPE\n"
          ],
          "name": "stdout"
        }
      ]
    },
    {
      "metadata": {
        "id": "ezCDQZyqVfAn",
        "colab_type": "code",
        "colab": {}
      },
      "cell_type": "code",
      "source": [
        "# copy to txt file\n",
        "! cat allrecip.mmf > food_recipes.txt"
      ],
      "execution_count": 0,
      "outputs": []
    },
    {
      "metadata": {
        "id": "qguUviqqVqII",
        "colab_type": "code",
        "colab": {}
      },
      "cell_type": "code",
      "source": [
        "# read in recipes\n",
        "with open('food_recipes.txt', 'r', encoding=\"utf8\", errors='ignore') as inputTxt:\n",
        "  recipes = inputTxt.read()"
      ],
      "execution_count": 0,
      "outputs": []
    },
    {
      "metadata": {
        "id": "Qb7qsVI2WywX",
        "colab_type": "code",
        "colab": {
          "base_uri": "https://localhost:8080/",
          "height": 680
        },
        "outputId": "aaebaa09-0511-4439-d6c1-ec7985c55be8"
      },
      "cell_type": "code",
      "source": [
        "# look at more of data\n",
        "print(recipes[:1500])"
      ],
      "execution_count": 103,
      "outputs": [
        {
          "output_type": "stream",
          "text": [
            "---------- Recipe via Meal-Master (tm) v8.05\n",
            " \n",
            "      Title: Bar-B-Que Chuck Roast (Missouri Beef Council)\n",
            " Categories: Beef, Main dish\n",
            "      Yield: 8 servings\n",
            " \n",
            "      3 lb CHUCK ROAST                         1 ea BEEF MARINADE RECIPE\n",
            " \n",
            "  *    USE A 3 LB CHUCK ROAST CUT ABOUT 1 1/2 TO 2 INCHES THICK.\n",
            "  **   SEE MARINADES CATAGORY FOR MARINADE RECIPE\n",
            "  ***  RECIPE WITH MARINADE CONTAINS ABOUT 291 CALORIES PER 3 OZ COOKED\n",
            "  SERVING SIZE.\n",
            "  *----------------------------------------------------------------------*\n",
            "  POUR MARINADE OVER CHUCK ROAST AND REFRIGERATE FOR 6 HOURS OR OVERNIGHT.\n",
            "  REMOVE CHUCK FROM MARINADE, PLACE OVER HOT COALS OR UNDER BROILER (5 TO 6\n",
            "  INCHES FROM HEAT). TURN EVERY TEN MINUTES AND BASTE TOP SIDE WITH JUICES.\n",
            "  COOK FOR ABOUT 45 MINUTES OR UNTIL DESIRED DONENESS. SLICE THIN ACROSS THE\n",
            "  GRAIN OF THE MEAT.\n",
            "  \n",
            "     BAKE AT 350 FOR 50 MINUTES\n",
            " \n",
            "-----\n",
            " \n",
            "---------- Recipe via Meal-Master (tm) v8.05\n",
            " \n",
            "      Title: Beef Marinade for Chuck Roast, Flank Steak or Etc.\n",
            " Categories: Sauces\n",
            "      Yield: 1 servings\n",
            " \n",
            "    1/3 c  WINE VINEGAR                        2 ts WORCESTERSHIRE SAUCE\n",
            "    1/4 c  KETCHUP                             1 ts PREPARED MUSTARD\n",
            "      2 tb SOY SAUCE                         1/4 ts GARLIC POWDER\n",
            "      1 ts SALT ( OPTIONAL )                 1/4 ts PEPPER\n",
            " \n",
            "  COMBINE MARINATE INGREDIENTS IN A GLASS MEASURING CUP. WHISK UNTIL\n",
            "  BLENDED. POUR OVER MEAT AND COVER FOR AND REFRIGERATE FOR ABOUT 6 HOURS.\n",
            "  GOOD FOR CHUCK ROAST, FLANK STEAK OR ETC.\n",
            " \n",
            "\n"
          ],
          "name": "stdout"
        }
      ]
    },
    {
      "metadata": {
        "id": "Mf6xlJ0CZCRe",
        "colab_type": "code",
        "colab": {}
      },
      "cell_type": "code",
      "source": [
        "# split data into recipes\n",
        "recipes = recipes.split('---------- Recipe via Meal-Master (tm) v8.05')"
      ],
      "execution_count": 0,
      "outputs": []
    },
    {
      "metadata": {
        "id": "D0uXe_VtZMt_",
        "colab_type": "code",
        "colab": {
          "base_uri": "https://localhost:8080/",
          "height": 34
        },
        "outputId": "7aa9e657-55fe-4a63-b5a9-1503ea6b11b5"
      },
      "cell_type": "code",
      "source": [
        "# number of recipes\n",
        "len(recipes)"
      ],
      "execution_count": 105,
      "outputs": [
        {
          "output_type": "execute_result",
          "data": {
            "text/plain": [
              "2924"
            ]
          },
          "metadata": {
            "tags": []
          },
          "execution_count": 105
        }
      ]
    },
    {
      "metadata": {
        "id": "4q2_CpMtbJH4",
        "colab_type": "code",
        "colab": {
          "base_uri": "https://localhost:8080/",
          "height": 347
        },
        "outputId": "30d51cfc-e9cc-4e15-e2c0-2c11a193248b"
      },
      "cell_type": "code",
      "source": [
        "# look at recipe lengths\n",
        "plt.plot(sorted([len(r) for r in recipes]))\n",
        "plt.show()"
      ],
      "execution_count": 106,
      "outputs": [
        {
          "output_type": "display_data",
          "data": {
            "image/png": "[encoded data removed]",
            "text/plain": [
              "<matplotlib.figure.Figure at 0x7fb92420a898>"
            ]
          },
          "metadata": {
            "tags": []
          }
        }
      ]
    },
    {
      "metadata": {
        "id": "wunUiUbgad_M",
        "colab_type": "code",
        "colab": {
          "base_uri": "https://localhost:8080/",
          "height": 34
        },
        "outputId": "fd829270-0b23-4380-fc30-971710eb52dd"
      },
      "cell_type": "code",
      "source": [
        "# remove really short and really long recipes\n",
        "recipes = [r for r in recipes if len(r)>500 and len(r)<1500]\n",
        "len(recipes)"
      ],
      "execution_count": 120,
      "outputs": [
        {
          "output_type": "execute_result",
          "data": {
            "text/plain": [
              "2221"
            ]
          },
          "metadata": {
            "tags": []
          },
          "execution_count": 120
        }
      ]
    },
    {
      "metadata": {
        "id": "hXthtEPka5ZB",
        "colab_type": "code",
        "colab": {
          "base_uri": "https://localhost:8080/",
          "height": 34
        },
        "outputId": "768a4ae1-19e4-4f4f-d9a8-79af550d47d7"
      },
      "cell_type": "code",
      "source": [
        "# new max recipe length\n",
        "maxlen = max([len(r) for r in recipes])\n",
        "maxlen"
      ],
      "execution_count": 121,
      "outputs": [
        {
          "output_type": "execute_result",
          "data": {
            "text/plain": [
              "1497"
            ]
          },
          "metadata": {
            "tags": []
          },
          "execution_count": 121
        }
      ]
    },
    {
      "metadata": {
        "id": "v3P5c4vDbcli",
        "colab_type": "code",
        "colab": {
          "base_uri": "https://localhost:8080/",
          "height": 347
        },
        "outputId": "a8677b19-0528-4a98-8ac0-b502d2aaae7d"
      },
      "cell_type": "code",
      "source": [
        "# plot distribution again\n",
        "plt.plot(sorted([len(r) for r in recipes]))\n",
        "plt.show()"
      ],
      "execution_count": 122,
      "outputs": [
        {
          "output_type": "display_data",
          "data": {
            "image/png": "[encoded data removed]",
            "text/plain": [
              "<matplotlib.figure.Figure at 0x7fb924065320>"
            ]
          },
          "metadata": {
            "tags": []
          }
        }
      ]
    },
    {
      "metadata": {
        "id": "00cFtq94cUTu",
        "colab_type": "code",
        "colab": {
          "base_uri": "https://localhost:8080/",
          "height": 1020
        },
        "outputId": "3136b256-cd14-41a0-b014-e0eeb5a76d4a"
      },
      "cell_type": "code",
      "source": [
        "# preview text file to be outputted\n",
        "print(''.join(recipes[:3]))"
      ],
      "execution_count": 123,
      "outputs": [
        {
          "output_type": "stream",
          "text": [
            "\n",
            " \n",
            "      Title: Bar-B-Que Chuck Roast (Missouri Beef Council)\n",
            " Categories: Beef, Main dish\n",
            "      Yield: 8 servings\n",
            " \n",
            "      3 lb CHUCK ROAST                         1 ea BEEF MARINADE RECIPE\n",
            " \n",
            "  *    USE A 3 LB CHUCK ROAST CUT ABOUT 1 1/2 TO 2 INCHES THICK.\n",
            "  **   SEE MARINADES CATAGORY FOR MARINADE RECIPE\n",
            "  ***  RECIPE WITH MARINADE CONTAINS ABOUT 291 CALORIES PER 3 OZ COOKED\n",
            "  SERVING SIZE.\n",
            "  *----------------------------------------------------------------------*\n",
            "  POUR MARINADE OVER CHUCK ROAST AND REFRIGERATE FOR 6 HOURS OR OVERNIGHT.\n",
            "  REMOVE CHUCK FROM MARINADE, PLACE OVER HOT COALS OR UNDER BROILER (5 TO 6\n",
            "  INCHES FROM HEAT). TURN EVERY TEN MINUTES AND BASTE TOP SIDE WITH JUICES.\n",
            "  COOK FOR ABOUT 45 MINUTES OR UNTIL DESIRED DONENESS. SLICE THIN ACROSS THE\n",
            "  GRAIN OF THE MEAT.\n",
            "  \n",
            "     BAKE AT 350 FOR 50 MINUTES\n",
            " \n",
            "-----\n",
            " \n",
            "\n",
            " \n",
            "      Title: Beef Marinade for Chuck Roast, Flank Steak or Etc.\n",
            " Categories: Sauces\n",
            "      Yield: 1 servings\n",
            " \n",
            "    1/3 c  WINE VINEGAR                        2 ts WORCESTERSHIRE SAUCE\n",
            "    1/4 c  KETCHUP                             1 ts PREPARED MUSTARD\n",
            "      2 tb SOY SAUCE                         1/4 ts GARLIC POWDER\n",
            "      1 ts SALT ( OPTIONAL )                 1/4 ts PEPPER\n",
            " \n",
            "  COMBINE MARINATE INGREDIENTS IN A GLASS MEASURING CUP. WHISK UNTIL\n",
            "  BLENDED. POUR OVER MEAT AND COVER FOR AND REFRIGERATE FOR ABOUT 6 HOURS.\n",
            "  GOOD FOR CHUCK ROAST, FLANK STEAK OR ETC.\n",
            " \n",
            "-----\n",
            " \n",
            "\n",
            " \n",
            "      Title: Vegetable Casserole Supreme\n",
            " Categories: Casseroles, Vegetables\n",
            "      Yield: 6 servings\n",
            " \n",
            "      4 ea POTATOES, SLICED                    1 lb GROUND BEEF\n",
            "      3 ea CARROTS, SLICED DIAGONALLY          1 cn MUSHROOM SOUP      *\n",
            "      1 cn PEAS                           \n",
            " \n",
            "  *       USE CREAM OF MUSHROOM OR TRY CHICKEN SOUP OR ?\n",
            "  *----------------------------------------------------------------------*\n",
            "  LAYER ALL VEGETABLES AND BEEF IN A 2 QUART CASSEROLE DISH. POUR THE SOUP\n",
            "  (DILUTED WITH 1 CAN OF WATER) OVER THE TOP OF THE DISH.\n",
            "  BAKE AT 350 DEG F. UNTIL ALL LAYERS ARE DONE.\n",
            " \n",
            "-----\n",
            " \n",
            "\n"
          ],
          "name": "stdout"
        }
      ]
    },
    {
      "metadata": {
        "id": "-KxrT4SFbxoh",
        "colab_type": "code",
        "colab": {}
      },
      "cell_type": "code",
      "source": [
        "# write recipes to txt file\n",
        "file_out = 'recipes.txt'\n",
        "\n",
        "with open(file_out, 'w', encoding = 'utf-8') as outputTxt:\n",
        "  outputTxt.write(''.join(recipes))"
      ],
      "execution_count": 0,
      "outputs": []
    },
    {
      "metadata": {
        "id": "P0EqKUXpd7ob",
        "colab_type": "code",
        "colab": {
          "base_uri": "https://localhost:8080/",
          "height": 34
        },
        "outputId": "8bdeaf7f-0902-4a97-ae80-804c6436526c"
      },
      "cell_type": "code",
      "source": [
        "# check file size\n",
        "! ls -l recipes.txt"
      ],
      "execution_count": 125,
      "outputs": [
        {
          "output_type": "stream",
          "text": [
            "-rw-r--r-- 1 root root 1965019 Nov 23 16:49 recipes.txt\n"
          ],
          "name": "stdout"
        }
      ]
    },
    {
      "metadata": {
        "id": "WE53puawch8o",
        "colab_type": "code",
        "colab": {}
      },
      "cell_type": "code",
      "source": [
        "# copy to drive\n",
        "! cp recipes.txt ./gdrive/'My Drive'/NLPProject"
      ],
      "execution_count": 0,
      "outputs": []
    },
    {
      "metadata": {
        "id": "yAT_wXen8SOe",
        "colab_type": "text"
      },
      "cell_type": "markdown",
      "source": [
        "## Academic Papers"
      ]
    },
    {
      "metadata": {
        "id": "X9lbz3ZT8fk7",
        "colab_type": "text"
      },
      "cell_type": "markdown",
      "source": [
        "## Novels"
      ]
    }
  ]
}