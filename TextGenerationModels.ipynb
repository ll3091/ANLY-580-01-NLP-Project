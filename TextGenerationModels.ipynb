{
  "nbformat": 4,
  "nbformat_minor": 0,
  "metadata": {
    "colab": {
      "name": "TextGenerationModels.ipynb",
      "version": "0.3.2",
      "provenance": [],
      "collapsed_sections": [],
      "include_colab_link": true
    },
    "kernelspec": {
      "name": "python3",
      "display_name": "Python 3"
    },
    "accelerator": "GPU"
  },
  "cells": [
    {
      "cell_type": "markdown",
      "metadata": {
        "id": "view-in-github",
        "colab_type": "text"
      },
      "source": [
        "<a href=\"https://colab.research.google.com/github/ll3091/ANLY-580-01-NLP-Project/blob/master/TextGenerationModels.ipynb\" target=\"_parent\"><img src=\"https://colab.research.google.com/assets/colab-badge.svg\" alt=\"Open In Colab\"/></a>"
      ]
    },
    {
      "metadata": {
        "id": "mrB_G9Ab1QR2",
        "colab_type": "text"
      },
      "cell_type": "markdown",
      "source": [
        "# NLP Project: Text Generation Training"
      ]
    },
    {
      "metadata": {
        "id": "PtS7V74X1VaL",
        "colab_type": "code",
        "colab": {
          "base_uri": "https://localhost:8080/",
          "height": 343
        },
        "outputId": "b8da6dee-03fc-442a-a1d9-4018b1c8fc89"
      },
      "cell_type": "code",
      "source": [
        "# source https://github.com/minimaxir/textgenrnn\n",
        "! pip install textgenrnn"
      ],
      "execution_count": 1,
      "outputs": [
        {
          "output_type": "stream",
          "text": [
            "Collecting textgenrnn\n",
            "\u001b[?25l  Downloading https://files.pythonhosted.org/packages/ad/f8/f1968b2078a9076f481916fba5d98affa019943e4f5764224ffaeb57b7c7/textgenrnn-1.4.1.tar.gz (1.7MB)\n",
            "\u001b[K    100% |████████████████████████████████| 1.7MB 13.5MB/s \n",
            "\u001b[?25hRequirement already satisfied: keras>=2.1.5 in /usr/local/lib/python3.6/dist-packages (from textgenrnn) (2.2.4)\n",
            "Requirement already satisfied: h5py in /usr/local/lib/python3.6/dist-packages (from textgenrnn) (2.8.0)\n",
            "Requirement already satisfied: scikit-learn in /usr/local/lib/python3.6/dist-packages (from textgenrnn) (0.19.2)\n",
            "Requirement already satisfied: keras-preprocessing>=1.0.5 in /usr/local/lib/python3.6/dist-packages (from keras>=2.1.5->textgenrnn) (1.0.5)\n",
            "Requirement already satisfied: keras-applications>=1.0.6 in /usr/local/lib/python3.6/dist-packages (from keras>=2.1.5->textgenrnn) (1.0.6)\n",
            "Requirement already satisfied: pyyaml in /usr/local/lib/python3.6/dist-packages (from keras>=2.1.5->textgenrnn) (3.13)\n",
            "Requirement already satisfied: six>=1.9.0 in /usr/local/lib/python3.6/dist-packages (from keras>=2.1.5->textgenrnn) (1.11.0)\n",
            "Requirement already satisfied: scipy>=0.14 in /usr/local/lib/python3.6/dist-packages (from keras>=2.1.5->textgenrnn) (1.1.0)\n",
            "Requirement already satisfied: numpy>=1.9.1 in /usr/local/lib/python3.6/dist-packages (from keras>=2.1.5->textgenrnn) (1.14.6)\n",
            "Building wheels for collected packages: textgenrnn\n",
            "  Running setup.py bdist_wheel for textgenrnn ... \u001b[?25l-\b \b\\\b \bdone\n",
            "\u001b[?25h  Stored in directory: /root/.cache/pip/wheels/30/96/f7/bc7042ea671bc79455c244af21050a7a32d604fe2f7a44e322\n",
            "Successfully built textgenrnn\n",
            "Installing collected packages: textgenrnn\n",
            "Successfully installed textgenrnn-1.4.1\n"
          ],
          "name": "stdout"
        }
      ]
    },
    {
      "metadata": {
        "id": "3QC0MFkv2RJ6",
        "colab_type": "code",
        "colab": {
          "base_uri": "https://localhost:8080/",
          "height": 34
        },
        "outputId": "49c07e71-7874-4fbc-cff0-bdf51ef97389"
      },
      "cell_type": "code",
      "source": [
        "from textgenrnn import textgenrnn\n",
        "from google.colab import drive"
      ],
      "execution_count": 2,
      "outputs": [
        {
          "output_type": "stream",
          "text": [
            "Using TensorFlow backend.\n"
          ],
          "name": "stderr"
        }
      ]
    },
    {
      "metadata": {
        "id": "l-aqy7vb56W0",
        "colab_type": "code",
        "colab": {}
      },
      "cell_type": "code",
      "source": [
        "# connect to Google drive\n",
        "drive.mount('/content/gdrive/')"
      ],
      "execution_count": 0,
      "outputs": []
    },
    {
      "metadata": {
        "id": "fk5CAFIn6I3D",
        "colab_type": "code",
        "colab": {
          "base_uri": "https://localhost:8080/",
          "height": 34
        },
        "outputId": "893ea63e-f5c2-4003-b755-bb2881777008"
      },
      "cell_type": "code",
      "source": [
        "! ls"
      ],
      "execution_count": 4,
      "outputs": [
        {
          "output_type": "stream",
          "text": [
            "gdrive\tsample_data\n"
          ],
          "name": "stdout"
        }
      ]
    },
    {
      "metadata": {
        "id": "U8yE6_sA8a2P",
        "colab_type": "code",
        "colab": {
          "base_uri": "https://localhost:8080/",
          "height": 51
        },
        "outputId": "f41bee96-5fe3-4b18-9425-5fd7f2dccd1e"
      },
      "cell_type": "code",
      "source": [
        "! ls gdrive/'My Drive'/NLPProject"
      ],
      "execution_count": 5,
      "outputs": [
        {
          "output_type": "stream",
          "text": [
            "DataExploration.ipynb  motivational_quotes.txt\ttrump_tweets.txt\n",
            "jokes.txt\t       TextGeneration.ipynb\n"
          ],
          "name": "stdout"
        }
      ]
    },
    {
      "metadata": {
        "id": "JzD5Qs813CyH",
        "colab_type": "text"
      },
      "cell_type": "markdown",
      "source": [
        "## Character RNNs"
      ]
    },
    {
      "metadata": {
        "id": "TvcIyOoA2Usc",
        "colab_type": "code",
        "colab": {}
      },
      "cell_type": "code",
      "source": [
        "# model configuration\n",
        "model_cfg = {\n",
        "    'rnn_size': 128,\n",
        "    'rnn_layers': 4,\n",
        "    'rnn_bidirectional': True,\n",
        "    'max_length': 40,\n",
        "    'max_words': 300,\n",
        "    'dim_embeddings': 100,\n",
        "    'word_level': False,\n",
        "}\n",
        "\n",
        "train_cfg = {\n",
        "    'line_delimited': False,\n",
        "    'num_epochs': 10,\n",
        "    'gen_epochs': 2,\n",
        "    'batch_size': 512,\n",
        "    'train_size': 0.8,\n",
        "    'dropout': 0.25,\n",
        "    'max_gen_length': 300,\n",
        "    'validation': True,\n",
        "    'is_csv': False\n",
        "}"
      ],
      "execution_count": 0,
      "outputs": []
    },
    {
      "metadata": {
        "id": "y9lbt3CJ3M4U",
        "colab_type": "text"
      },
      "cell_type": "markdown",
      "source": [
        "### Trump Tweets"
      ]
    },
    {
      "metadata": {
        "id": "a8ko9a1y44AO",
        "colab_type": "code",
        "colab": {}
      },
      "cell_type": "code",
      "source": [
        "file = './gdrive/My Drive/NLPProject/trump_tweets.txt'\n",
        "\n",
        "model_name = 'char_trump_tweets'\n",
        "textgen = textgenrnn(name=model_name)\n",
        "\n",
        "train_function = textgen.train_from_file if train_cfg['line_delimited'] else textgen.train_from_largetext_file"
      ],
      "execution_count": 0,
      "outputs": []
    },
    {
      "metadata": {
        "id": "0Xy0mvA430sc",
        "colab_type": "code",
        "colab": {
          "base_uri": "https://localhost:8080/",
          "height": 3998
        },
        "outputId": "79888859-7634-4fa7-cdd4-2bb3baf2320a"
      },
      "cell_type": "code",
      "source": [
        "# ~50 mins to train\n",
        "train_function(\n",
        "    file_path=file,\n",
        "    new_model=True,\n",
        "    num_epochs=train_cfg['num_epochs'],\n",
        "    gen_epochs=train_cfg['gen_epochs'],\n",
        "    batch_size=train_cfg['batch_size'],\n",
        "    train_size=train_cfg['train_size'],\n",
        "    dropout=train_cfg['dropout'],\n",
        "    max_gen_length=train_cfg['max_gen_length'],\n",
        "    validation=train_cfg['validation'],\n",
        "    is_csv=train_cfg['is_csv'],\n",
        "    rnn_layers=model_cfg['rnn_layers'],\n",
        "    rnn_size=model_cfg['rnn_size'],\n",
        "    rnn_bidirectional=model_cfg['rnn_bidirectional'],\n",
        "    max_length=model_cfg['max_length'],\n",
        "    dim_embeddings=model_cfg['dim_embeddings'],\n",
        "    word_level=model_cfg['word_level'])"
      ],
      "execution_count": 12,
      "outputs": [
        {
          "output_type": "stream",
          "text": [
            "Training new model w/ 4-layer, 128-cell Bidirectional LSTMs\n",
            "Training on 647,155 character sequences.\n",
            "Epoch 1/10\n",
            "1263/1263 [==============================] - 297s 235ms/step - loss: 2.0700 - val_loss: 1.5569\n",
            "Epoch 2/10\n",
            "1263/1263 [==============================] - 292s 231ms/step - loss: 1.4736 - val_loss: 1.3689\n",
            "####################\n",
            "Temperature: 0.2\n",
            "####################\n",
            " RT @realDonaldTrump: The Failiness is no totally see the fired to the Fake News Media will be the country and the Democrats and the people of the people of the Senate is no big the most the most be the FBI is no totally and the FBI and the FBI is no long and the people to the people of the Republic\n",
            "\n",
            " I will be the people of the press country and the people with the FBI and the Failines to the FBI is no going to the fired to the people and the media is no long to the people with the Failines and the FBI is no going to the people of the United States of State of Security and the FBI is no done an\n",
            "\n",
            "ets: The Failines and the Senate is no confidence of the Democrats and the total confidence of the Failines and the Failines and the @WhiteHouse of the Election of the FBI and the United States of Justice and the United States of the @WhiteHouse https://t.co/L4LLLLLLLL\n",
            "\n",
            "Trump tweets: The FBI is no l\n",
            "\n",
            "####################\n",
            "Temperature: 0.5\n",
            "####################\n",
            "s: The United States &amp; Republican Security and his now not be help the country report that the relistations of the Failines on the protection in the policy in Nancy Congratulations today is stated to our country, with @FLOTUS @realDonaldTrump https://t.co/4J602AVciV\n",
            "\n",
            "Trump tweets: Today, we will\n",
            "\n",
            " The life that the United States &amp; Republicans like in the proor to the Dems will be stopping meeting to the people with a now enemy on the courage and the United State on the people on the Democrats and the fair and Democrats win I will be companies and help to the Election @realDonaldTrump &am\n",
            "\n",
            "s: RT @realDonaldTrump: The country in the fire the world. Much that the enemy of the Democrats much and discuss on the United State of South Korea. Fed Bill the media working to the country and the Democrats are very getting to be fix the Election of the Failines and see in the life for the United \n",
            "\n",
            "####################\n",
            "Temperature: 1.0\n",
            "####################\n",
            "o #Froddews https://t.co/KCLOu01SQ0\n",
            "\n",
            "Trump tweets: I am back up just like unah increase… https://t.co/NKe1P6Eb8i\n",
            "\n",
            "Trump tweets: I dourul Witch Hunticers and said stund to he look and the U.S. is up, my enemes!\n",
            "\n",
            "Trump tweets: State on's too has confidence and is Anoth from the wise the wonderful thin\n",
            "\n",
            "just sadines and truly should relation hatce antoriged have 6 im surveil as the foreign than released discussing. \n",
            "Gear As hope his time of the place is bormling anyone in the Sulan Peloski. Need 'AVERICA GRIAT AGAIN! https://t.co/b2YfUbWXMo\n",
            "\n",
            "Trump tweets: Mattor and TAX CUT in power, of 11. God RAC\n",
            "\n",
            "ut happens, people with seipping about the people and one immigrant!\n",
            "\n",
            "Trump tweets: Ero🇷 Pott be with Treams of Lagana!\n",
            "\n",
            "Trump tweets: Our country about and steplined much is gued now it country. Milling a Stullion Georgia.....\n",
            "\n",
            "Trump tweets: Source calnem was overel in Jurecy and @Emicoling https:/\n",
            "\n",
            "Epoch 3/10\n",
            "1263/1263 [==============================] - 293s 232ms/step - loss: 1.3299 - val_loss: 1.2961\n",
            "Epoch 4/10\n",
            "1263/1263 [==============================] - 293s 232ms/step - loss: 1.2480 - val_loss: 1.2463\n",
            "####################\n",
            "Temperature: 0.2\n",
            "####################\n",
            " The Democrats are the people of the United States Schumer and the United States Schumer and the Democrats are the world. It was a great honor to be total Endorsement!\n",
            "\n",
            "Trump tweets: The Democrats are the Democrats are the world. The Democrats are total deal and the Democrats are the problem and the\n",
            "\n",
            "000000000\n",
            "\n",
            "Trump tweets: The United States Schumer and the Russia and the Democrats are with the Fake News Media and the United States Schumer and the United States Special Council to the @WhiteHouse today at the @WhiteHouse today we will be a great honor to the United States and the Democrats are t\n",
            "\n",
            " I will be dishonest level than an administ and the Democrats are total Endorsement!\n",
            "\n",
            "Trump tweets: The Democrats are the world. We will be a biggest like the Democrats are the world. They are the political community and the Trump Dance Pennsylvania to the @WhiteHouse today at the @WhiteHouse today \n",
            "\n",
            "####################\n",
            "Temperature: 0.5\n",
            "####################\n",
            "ts: The Democrats want to set to our country and the President Trump was on badly down the middle that all of lidy to the pass are failed and the Democrats are total decision on the Replace. They are the people with a fraud and well better a really great jobs and total Endorsement to the people of t\n",
            "\n",
            " Funny to the United States, to do there is no Collusion is very being hard for our country (for his read every few bad a big day. #Wemmany and Great Agreement and the Dems are the middle today to welcome the United States Veterans pass the remaind of the problem books for a lines to despite the Dem\n",
            "\n",
            " the World. We will only do the FBI read of our browy our time!\n",
            "\n",
            "Trump tweets: The Fake News Media that we have taken as the only to a families and decision - a really good in the United States Schumer and many the Election is now working at the United States and our strong on National Primary and N\n",
            "\n",
            "####################\n",
            "Temperature: 1.0\n",
            "####################\n",
            "Trump tweets: RT @Donnews: Free - as a Trump &amp; NFL jobs in order our occur to our trump back! Our Second Emails is put story. We all talking already, no positizings w/is core!\n",
            "\n",
            "Trump tweets: Is they during Obama caping that which is times!\n",
            "\n",
            "Trump tweets: The BIG on her. DOCHAR only Russia? After\n",
            "\n",
            "n't want to menting a Trump Yearly 'Pennsylvania! https://t.co/61Q6sNsqZR https://t.co/XIVsbtrJXI\n",
            "\n",
            "Trump tweets: RT @Scavino45: 1796,000.” at Otter weaking to the raoting to get victims of best credented and relaosed Free VF (our correct by 2018 - and cared for good planky an pass fight to Great Ame\n",
            "\n",
            "n. This was great wants unlest expects on sacred , 鮮ntis amounts of our lawyer! @CVAWNews- is over opponent wounded dishonest and more triff. The important? We told turn and put on the United States did now obstructions about thrillian Endorsement naubing at they yet brayed for light has differing..\n",
            "\n",
            "Epoch 5/10\n",
            "1263/1263 [==============================] - 292s 231ms/step - loss: 1.1871 - val_loss: 1.2193\n",
            "Epoch 6/10\n",
            "1263/1263 [==============================] - 292s 232ms/step - loss: 1.1359 - val_loss: 1.1977\n",
            "####################\n",
            "Temperature: 0.2\n",
            "####################\n",
            "tweets: RT @realDonaldTrump: The FBI and American people are the world and the U.S. has my great honor to the @WhiteHouse today we will be a great honor to be a great honor to the U.S. is the most puts to the U.S. is the U.S. is the world. The Russians to the @WhiteHouse today we will be great honor\n",
            "\n",
            " the U.S. is the U.S. is a major to the White House. He will be a great honor to see the brave men and women who will be a great honor to welcome President Xi of American people are working hard to be the productive that the FBI and the U.S. is the people of the U.S. is a truly be seen and women of \n",
            "\n",
            "ldTrump https://t.co/e4dv94xxxx\n",
            "\n",
            "Trump tweets: RT @foxandfriends: .@POTUS @realDonaldTrump @realDonaldTrump @realDonaldTrump @realDonaldTrump @realDonaldTrump @realDonaldTrump @realDonaldTrump https://t.co/9G6444xxxx\n",
            "\n",
            "Trump tweets: The Fake News Media is the FBI and the United States and the White H\n",
            "\n",
            "####################\n",
            "Temperature: 0.5\n",
            "####################\n",
            "s: RT @WhiteHouse: \"Dems want to see that the FBI and Canada must now we will allow the FBI and Canada and money fast the respect to the Witch Hunt should be great people of the Great State in the world, the FBI and the Republican Proclamation, while they don’t want to be a fantastic Senate and Vets\n",
            "\n",
            " So much more to the United States is a strong of the Clinton campaign of the U.S. is doing remembered that the FBI starting to be stand for the U.S. has been starting to be discussions to the United States is a fraud or the Republicans will be a companies of the West State of the United States, and\n",
            "\n",
            "s: Great to see the U.S. is the horrific meeting with President Trump. The Dems have not been a great honor to be the process with the @WhiteHouse to reporters will be interviewed by the FBI and others, the FBI and I will be committed by trust these have been to making a truly fighting to a major to\n",
            "\n",
            "####################\n",
            "Temperature: 1.0\n",
            "####################\n",
            "ZjF\n",
            "\n",
            "Trump tweets: When the sifts” doesn’t smart. We will catting to setting really an investigated in healthcare. Make relations without and large at 3:00 A.M. reputt on @foxandfriends- David now!\n",
            "\n",
            "Trump tweets: Wow! https://t.co/SHLMsgPdAv\n",
            "\n",
            "Trump tweets: “Over\" unpe planned question &amp; elevents\n",
            "\n",
            " tax carely go to so please like my few per of general attack into alard - and Border of duts of the Wack Borderey, @FoxNews @realDonaldTrump dems vanging with you to the high increasing\" you, they can no Clinton. ABC, they wrenn I gave its full isn’t like infiQuration, He rask.” @MulLetCallev\n",
            "\n",
            "Trum\n",
            "\n",
            " Wow to if the time. Democrats, after DNC looking at my currench running line…\n",
            "\n",
            "Trump tweets: RT @FoxButinNews: .@FLOTUS Melania and President Paul Many will have development!\n",
            "\n",
            "Trump tweets: Every under 14 from North Korea https://t.co/uJ4DIsVHdP\n",
            "\n",
            "Trump tweets: Remember than Republicans @AdInTheUS S\n",
            "\n",
            "Epoch 7/10\n",
            "1263/1263 [==============================] - 293s 232ms/step - loss: 1.0895 - val_loss: 1.1833\n",
            "Epoch 8/10\n",
            "1263/1263 [==============================] - 293s 232ms/step - loss: 1.0473 - val_loss: 1.1705\n",
            "####################\n",
            "Temperature: 0.2\n",
            "####################\n",
            "ocrats have been a great success for the people of the U.S. has a great honor to have a great honor to help the people of the people of the U.S. is the problem is strong on Crime, the Democrats are strong on Crime and the Dems are the Democrats are totally story is the place to the U.S. is a big pro\n",
            "\n",
            "e Fake News Media is a great honor to welcome Primary for the U.S. has a great honor to have a great honor to help the process of the U.S. is a big problem is strong on crime and stop the Democrats are fine in the Senate should be going to the same time and security and security and have a great hon\n",
            "\n",
            "R THE WALL!\n",
            "\n",
            "Trump tweets: The Democrats have been a great job as the people of the U.S. is a great honor to the U.S. is a great job as the Dems want to see the people of the U.S. is a great job as the Democrats are fine working hard to see the Democrats are going to be strong on Crime and Borders, \n",
            "\n",
            "####################\n",
            "Temperature: 0.5\n",
            "####################\n",
            "s Media didn’t happening as we win be a long time to work and many years, planned the great companies are with you this week, as the long time to a major demented country!\n",
            "\n",
            "Trump tweets: RT @foxandfriends: .@FoxNews  continues to support the Dems and a great Governor for service to give us a big pro\n",
            "\n",
            "TUS @realDonaldTrump will be interviewed on a deal but they will be a great Governor of New England. No Collusion with me on Cuts (and the Democrats is not make a deal with the same time and security and complete and an all of the U.S. has a Special Counsel Day to our Country and the Democrats are n\n",
            "\n",
            " is a great respect from the Dems want to meet with the U.S. Comey and others continues!\n",
            "\n",
            "Trump tweets: I am so the Democrat Party and the great Media results for his loss to a great honor to go to a Russian meddling the Democrats are looking at the very time and the economy is a total Endorsement! \n",
            "\n",
            "####################\n",
            "Temperature: 1.0\n",
            "####################\n",
            "IsraelkDa: 30,000 on U.S. and in Lago 2018:  “ANTERMEN. THE WALL!\n",
            "\n",
            "Trump tweets: We cannot protect our truth of a fraudulent in them and flowing, and know their N\n",
            "Asive Trade Define. ObamaCare and a great to redicole and really with the 2018 election, I suprord havled Russia Wisconsin members had no\n",
            "\n",
            "hat is going on while its want to resigned to negotiated a great opportunity. Thank you for 15:00p Jim West be an on his more fine. You have the evidence a Proclamation’s Special Counsel will still taxes in favor of very earlies, but Director of South Carolina. She was no Colofic that we have a grea\n",
            "\n",
            "day, D.C., or the existent affected trade with his son, Debbie - These use our future on our great American Germany but not even closen! He has no always, a country has done a very police is being setting support more going and fellowers source is the DNC people separated pay, AT truly look and mile\n",
            "\n",
            "Epoch 9/10\n",
            "1263/1263 [==============================] - 294s 232ms/step - loss: 1.0064 - val_loss: 1.1650\n",
            "Epoch 10/10\n",
            "1263/1263 [==============================] - 292s 232ms/step - loss: 0.9688 - val_loss: 1.1636\n",
            "####################\n",
            "Temperature: 0.2\n",
            "####################\n",
            "a big problem in the people of the people of the U.S. is a big day for the world. We must stop the story of the U.S. has a great honor to host our great Congress must be proud of any long and so much more. They are working on the people of the fact that the FBI in the media is a big day for the same\n",
            "\n",
            "a big day for the U.S. is a big day for the problem in the U.S. is a big problem in the U.S. is the world. We will see you that they are all the many thoughts and prayers are with the FBI and his powerful trade deficits and protect our Country was not a fantastic job as the Democrats are finished a \n",
            "\n",
            "l be a great honor to welcome President Obama was a great honor to host our great country is a total people of the U.S. is a big day for the U.S. is the worst trade deals in the U.S. has a truly great honor to welcome President Obama at the @WhiteHouse today. https://t.co/GkIXgfWo71\n",
            "\n",
            "Trump tweets: T\n",
            "\n",
            "####################\n",
            "Temperature: 0.5\n",
            "####################\n",
            "ld have been a long time in the great meeting with China, the next Crooked Hillary Clinton and I were the people of this statements of people are not allow the Election. Let’s helping me for a big win in the great and our Vets and other country, and the Democrats are finished a great representing th\n",
            "\n",
            "CBSNews to the @WhiteHouse today! https://t.co/7mLElXkeyk\n",
            "\n",
            "Trump tweets: I have started and companies are with the first to highest and so much more. Please anywhere in the acting back to Congress to the WH with @POTUS Trump was in the great statements of the mid- deserve to be with the people of Do\n",
            "\n",
            "ith President Putin. The people of Justice of the South Carolina. The South Korea today. We are opposed to work and corruption of the large system than they should be a great healthcare people want to make a deal but they should be interviewed on the United States has a remains of the one memos. He \n",
            "\n",
            "####################\n",
            "Temperature: 1.0\n",
            "####################\n",
            ": RT @foxandfriends: Oh EVER SININPEAL – and they pushing a special, who few how contribution.”\n",
            "\n",
            "Trump tweets: Phile Judicial Went I could... https://t.co/RrQw’pVRhI\n",
            "\n",
            "Trump tweets: U.S. Insurance must be putten &amp; proud of Trump\n",
            "\n",
            "Trump tweets: RT @realDonaldTrump: Almost 80% of World Watchered @F\n",
            "\n",
            " another election. The United States etc. Melania, there should be time!\n",
            "\n",
            "Trump tweets: We have fired me w/ watched so ceople.”  Crooked H.M. fulfille knew the United States. The FBI (keep America is for both Imposities and the Great State of Justice to Big wealth in HealthCare wants to representing\n",
            "\n",
            "ts: RT @seanhannity: @realDonaldTrump was year back!\n",
            "\n",
            "Trump tweets: RT @ICEgovan: The Fake News Media is long time, the successful, including the Fake  NBC🇺🇸 #WEF17 https://t.co/yfl9GrbVUQ\n",
            "\n",
            "Trump tweets: I everybody investigating Abe is this could she working to with North Korea. Many American decis\n",
            "\n"
          ],
          "name": "stdout"
        }
      ]
    },
    {
      "metadata": {
        "id": "JFZP80GIKgCm",
        "colab_type": "text"
      },
      "cell_type": "markdown",
      "source": [
        "\"Temperature. We can also play with the temperature of the Softmax during sampling. Decreasing the temperature from 1 to some lower number (e.g. 0.5) makes the RNN more confident, but also more conservative in its samples. Conversely, higher temperatures will give more diversity but at cost of more mistakes (e.g. spelling mistakes, etc).\"\n",
        "\n",
        "*http://karpathy.github.io/2015/05/21/rnn-effectiveness/*"
      ]
    },
    {
      "metadata": {
        "id": "fUrp90x884ad",
        "colab_type": "code",
        "colab": {}
      },
      "cell_type": "code",
      "source": [
        "! cp char_trump_tweets_config.json ./gdrive/'My Drive'/NLPProject/\n",
        "! cp char_trump_tweets_vocab.json ./gdrive/'My Drive'/NLPProject/\n",
        "! cp char_trump_tweets_weights.hdf5 ./gdrive/'My Drive'/NLPProject/"
      ],
      "execution_count": 0,
      "outputs": []
    },
    {
      "metadata": {
        "id": "WfdJH5JwOc43",
        "colab_type": "text"
      },
      "cell_type": "markdown",
      "source": [
        "### Motivation Quotes"
      ]
    },
    {
      "metadata": {
        "id": "fllVbXHqOq59",
        "colab_type": "code",
        "colab": {
          "base_uri": "https://localhost:8080/",
          "height": 136
        },
        "outputId": "873c3360-f440-4063-d23a-354bc1565452"
      },
      "cell_type": "code",
      "source": [
        "!ls"
      ],
      "execution_count": 14,
      "outputs": [
        {
          "output_type": "stream",
          "text": [
            "1\t\t\t\treddit_jokes.json\t       songs25000.txt\n",
            "char_trump_tweets_config.json\tsample_data\t\t       songs5000.txt\n",
            "char_trump_tweets_vocab.json\tsince-20170120-processed.json  stupidstuff.json\n",
            "char_trump_tweets_weights.hdf5\tsongdata.csv\t\t       trump_tweets.txt\n",
            "gdrive\t\t\t\tsonglyrics.zip\t\t       wocka.json\n",
            "jokes.txt\t\t\tsongs10000.txt\n",
            "motivate\t\t\tsongs1000.txt\n"
          ],
          "name": "stdout"
        }
      ]
    },
    {
      "metadata": {
        "colab_type": "code",
        "id": "5J3wkyx_OkxC",
        "colab": {}
      },
      "cell_type": "code",
      "source": [
        "file = './gdrive/My Drive/NLPProject/motivational_quotes.txt'\n",
        "\n",
        "model_name = 'char_trump_tweets'\n",
        "textgen = textgenrnn(name=model_name)\n",
        "\n",
        "train_function = textgen.train_from_file if train_cfg['line_delimited'] else textgen.train_from_largetext_file"
      ],
      "execution_count": 0,
      "outputs": []
    },
    {
      "metadata": {
        "colab_type": "code",
        "id": "qmD92fWuOkxG",
        "colab": {}
      },
      "cell_type": "code",
      "source": [
        "# ~50 mins to train\n",
        "train_function(\n",
        "    file_path=file,\n",
        "    new_model=True,\n",
        "    num_epochs=train_cfg['num_epochs'],\n",
        "    gen_epochs=train_cfg['gen_epochs'],\n",
        "    batch_size=train_cfg['batch_size'],\n",
        "    train_size=train_cfg['train_size'],\n",
        "    dropout=train_cfg['dropout'],\n",
        "    max_gen_length=train_cfg['max_gen_length'],\n",
        "    validation=train_cfg['validation'],\n",
        "    is_csv=train_cfg['is_csv'],\n",
        "    rnn_layers=model_cfg['rnn_layers'],\n",
        "    rnn_size=model_cfg['rnn_size'],\n",
        "    rnn_bidirectional=model_cfg['rnn_bidirectional'],\n",
        "    max_length=model_cfg['max_length'],\n",
        "    dim_embeddings=model_cfg['dim_embeddings'],\n",
        "    word_level=model_cfg['word_level'])"
      ],
      "execution_count": 0,
      "outputs": []
    },
    {
      "metadata": {
        "id": "gKd4m2FlFhog",
        "colab_type": "text"
      },
      "cell_type": "markdown",
      "source": [
        "# Generating Text from Models"
      ]
    },
    {
      "metadata": {
        "id": "8J6uUcjU7oQM",
        "colab_type": "code",
        "colab": {}
      },
      "cell_type": "code",
      "source": [
        "textgen = textgenrnn(weights_path='colaboratory_weights.hdf5',\n",
        "                       vocab_path='colaboratory_vocab.json',\n",
        "                       config_path='colaboratory_config.json')\n",
        "\n",
        "textgen.generate_samples(max_gen_length=1000)\n",
        "textgen.generate_to_file('textgenrnn_texts.txt', max_gen_length=1000)"
      ],
      "execution_count": 0,
      "outputs": []
    }
  ]
}